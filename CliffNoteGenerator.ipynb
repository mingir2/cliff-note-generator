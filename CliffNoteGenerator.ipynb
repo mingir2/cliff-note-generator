{
 "cells": [
  {
   "cell_type": "code",
   "execution_count": 1,
   "metadata": {},
   "outputs": [],
   "source": [
    "import CliffNoteGenerator as cng\n",
    "import pandas as pd\n",
    "import matplotlib.pyplot as plt"
   ]
  },
  {
   "cell_type": "code",
   "execution_count": 2,
   "metadata": {},
   "outputs": [
    {
     "name": "stdout",
     "output_type": "stream",
     "text": [
      "\n",
      "Version 04.17.2019\n",
      "NOTES for Harry Potter and the Sorcerer's Stone\n",
      "  * source: http://www2.sdfi.edu.cn/netclass/jiaoan/englit/download/Harry%20Potter%20and%20the%20Sorcerer%27s%20Stone.pdf\n",
      "  * copy & paste\n",
      "  * updated CHAPTER headings manually\n",
      "\n",
      "Cleaning still to do:\n",
      "  * remove page numbers in it\n",
      "  * normalize whitespace between chapter headings, titles and text\n",
      "\n",
      "After updates copy this file to Google Drive !\n",
      "/info490/datasets/harry\\ potter/harryPotter-04.17.2019.txt\n",
      "\n",
      "\n",
      "Harry Potter and the Sorcerer's Stone\n",
      "\n",
      "CHAPTER ONE\n",
      "THE BOY WHO LIVED\n",
      "\n",
      "Mr. and Mrs. Dursley, of number four, Privet Drive, were\n"
     ]
    }
   ],
   "source": [
    "# Google Drive ID for the text for Harry Potter and the Sorcerer's Stone\n",
    "HP_SS_ID = '1jOCDUhsMY3uAoLqV3NoZogyrr-FVqEoo'\n",
    "\n",
    "text = cng.get_data_from_cloud(HP_SS_ID)\n",
    "print(text[:600])"
   ]
  },
  {
   "cell_type": "code",
   "execution_count": 3,
   "metadata": {},
   "outputs": [
    {
     "name": "stdout",
     "output_type": "stream",
     "text": [
      "Harry Potter and the Sorcerer's Stone\n",
      "\n",
      "CHAPTER ONE\n",
      "THE BOY WHO LIVED\n",
      "\n",
      "Mr. and Mrs. Dursley, of number four, Privet Drive, were proud to say that they were perfectly normal, thank you very much. They were the last people you'd expect to be involved in anything strange or mysterious, because they just didn't hold with such nonsense.\n",
      "Mr. Dursley was the director of a firm called Grunnings, which made drills. He was a big, beefy man with hardly any neck, although he did have a very large mustache. Mrs. Dursley was thin and blonde and had nearly twice the usual amount of neck, which came in very us\n"
     ]
    }
   ],
   "source": [
    "# Remove any header information and white spaces \n",
    "title = \"Harry Potter and the Sorcerer's Stone\"\n",
    "text = cng.clean_data(text, title)\n",
    "print(text[:600])"
   ]
  },
  {
   "cell_type": "code",
   "execution_count": 4,
   "metadata": {},
   "outputs": [
    {
     "name": "stdout",
     "output_type": "stream",
     "text": [
      "[('Harry', 1236), ('Ron', 423), ('McGonagall', 93), ('Malfoy', 76), ('Dumbledore', 61), ('Quirrell', 59), ('Hogwarts', 54), ('Uncle Vernon', 52), ('Filch', 51), ('Dursley', 48), ('Potter', 35), ('Percy', 29), ('Gringotts', 27), ('Norbert', 24), ('Voldemort', 23)]\n"
     ]
    }
   ],
   "source": [
    "# Use Spacy's NER to get list of characters in the text\n",
    "characters = cng.find_characters_nlp(text)\n",
    "print(characters)"
   ]
  },
  {
   "cell_type": "code",
   "execution_count": 5,
   "metadata": {},
   "outputs": [
    {
     "data": {
      "image/png": "[encoded data removed]",
      "text/plain": [
       "<Figure size 432x288 with 1 Axes>"
      ]
     },
     "metadata": {
      "needs_background": "light"
     },
     "output_type": "display_data"
    }
   ],
   "source": [
    "# Split the appearance of each characters to per chapters\n",
    "names = [\"Harry\", \"Ron\", \"Hagrid\", \"Hermione\"]\n",
    "chapters = cng.split_into_chapters(text)\n",
    "characters_counts = cng.get_character_counts(chapters, names)\n",
    "\n",
    "# Plot cummulative counts of characters\n",
    "fig = plt.figure()\n",
    "subplot = fig.add_subplot(1,1,1)\n",
    "subplot.plot(characters_counts)\n",
    "plt.show()"
   ]
  }
 ],
 "metadata": {
  "kernelspec": {
   "display_name": "Python 3",
   "language": "python",
   "name": "python3"
  },
  "language_info": {
   "codemirror_mode": {
    "name": "ipython",
    "version": 3
   },
   "file_extension": ".py",
   "mimetype": "text/x-python",
   "name": "python",
   "nbconvert_exporter": "python",
   "pygments_lexer": "ipython3",
   "version": "3.7.3"
  }
 },
 "nbformat": 4,
 "nbformat_minor": 2
}
