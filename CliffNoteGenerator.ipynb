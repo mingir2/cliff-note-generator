{
 "cells": [
  {
   "cell_type": "code",
   "execution_count": 1,
   "metadata": {},
   "outputs": [],
   "source": [
    "import CliffNoteGenerator as cng\n",
    "import pandas as pd"
   ]
  },
  {
   "cell_type": "code",
   "execution_count": 2,
   "metadata": {
    "scrolled": true
   },
   "outputs": [
    {
     "name": "stdout",
     "output_type": "stream",
     "text": [
      "CHAPTER I.\n",
      "\n",
      "YOU don't know about me without you have read a book by the name of The\n",
      "Adventures of Tom Sawyer; but that ain't no matter.  That book was made\n",
      "by Mr. Mark Twain, and he told the truth, mainly.  There was things\n",
      "which he stretched, but mainly he told the truth.  That is nothing.  I\n",
      "never seen anybody but lied one time or another, without it was Aunt\n",
      "Polly, or the widow, or maybe Mary.  Aunt Polly--Tom's Aunt Polly, she\n",
      "is--and Mary, and the Widow Douglas is all told about in that book, which\n",
      "is mostly a true book, with some stretchers, as I said before.\n",
      "\n",
      "Now the way that the book winds up is this:  Tom and me found the money\n",
      "that the robbers hid in the cave, and it made us rich.  We got six\n",
      "thousand dollars apiece--all gold.  It was an awful sight of money when\n",
      "it was piled up.  Well, Judge Thatcher he took it and put it out\n",
      "at interest, and it fetched us a dollar a day apiece all the year\n",
      "round--more than a body could tell what to do with.  The Widow Douglas\n",
      "she took me fo\n"
     ]
    }
   ],
   "source": [
    "# Load the content of the file\n",
    "text = cng.read_data(\"data.txt\")\n",
    "print(text[:1000])"
   ]
  },
  {
   "cell_type": "code",
   "execution_count": 5,
   "metadata": {},
   "outputs": [
    {
     "name": "stdout",
     "output_type": "stream",
     "text": [
      "['chapter', 'you', \"don't\", 'know', 'about', 'me', 'without', 'you', 'have', 'read', 'book', 'by', 'the', 'name', 'of', 'the', 'adventures', 'of', 'tom', 'sawyer', 'but', 'that', \"ain't\", 'no', 'matter', 'that', 'book', 'was', 'made', 'by', 'mr', 'mark', 'twain', 'and', 'he', 'told', 'the', 'truth', 'mainly', 'there', 'was', 'things', 'which', 'he', 'stretched', 'but', 'mainly', 'he', 'told', 'the', 'truth', 'that', 'is', 'nothing', 'never', 'seen', 'anybody', 'but', 'lied', 'one', 'time', 'or', 'another', 'without', 'it', 'was', 'aunt', 'polly', 'or', 'the', 'widow', 'or', 'maybe', 'mary', 'aunt', 'polly', \"tom's\", 'aunt', 'polly', 'she', 'is', 'and', 'mary', 'and', 'the', 'widow', 'douglas', 'is', 'all', 'told', 'about', 'in', 'that', 'book', 'which', 'is', 'mostly', 'true', 'book', 'with']\n"
     ]
    }
   ],
   "source": [
    "tokens = cng.split_text_into_tokens(text)\n",
    "tokens_lower = cng.normalize(tokens)\n",
    "print(tokens_lower[:100])"
   ]
  },
  {
   "cell_type": "code",
   "execution_count": 6,
   "metadata": {},
   "outputs": [
    {
     "data": {
      "text/html": [
       "<div>\n",
       "<style scoped>\n",
       "    .dataframe tbody tr th:only-of-type {\n",
       "        vertical-align: middle;\n",
       "    }\n",
       "\n",
       "    .dataframe tbody tr th {\n",
       "        vertical-align: top;\n",
       "    }\n",
       "\n",
       "    .dataframe thead th {\n",
       "        text-align: right;\n",
       "    }\n",
       "</style>\n",
       "<table border=\"1\" class=\"dataframe\">\n",
       "  <thead>\n",
       "    <tr style=\"text-align: right;\">\n",
       "      <th></th>\n",
       "      <th>0</th>\n",
       "      <th>1</th>\n",
       "    </tr>\n",
       "  </thead>\n",
       "  <tbody>\n",
       "    <tr>\n",
       "      <th>0</th>\n",
       "      <td>and</td>\n",
       "      <td>6346</td>\n",
       "    </tr>\n",
       "    <tr>\n",
       "      <th>1</th>\n",
       "      <td>the</td>\n",
       "      <td>4778</td>\n",
       "    </tr>\n",
       "    <tr>\n",
       "      <th>2</th>\n",
       "      <td>to</td>\n",
       "      <td>2912</td>\n",
       "    </tr>\n",
       "    <tr>\n",
       "      <th>3</th>\n",
       "      <td>it</td>\n",
       "      <td>2326</td>\n",
       "    </tr>\n",
       "    <tr>\n",
       "      <th>4</th>\n",
       "      <td>was</td>\n",
       "      <td>2069</td>\n",
       "    </tr>\n",
       "    <tr>\n",
       "      <th>5</th>\n",
       "      <td>he</td>\n",
       "      <td>1676</td>\n",
       "    </tr>\n",
       "    <tr>\n",
       "      <th>6</th>\n",
       "      <td>of</td>\n",
       "      <td>1633</td>\n",
       "    </tr>\n",
       "    <tr>\n",
       "      <th>7</th>\n",
       "      <td>in</td>\n",
       "      <td>1432</td>\n",
       "    </tr>\n",
       "    <tr>\n",
       "      <th>8</th>\n",
       "      <td>you</td>\n",
       "      <td>1359</td>\n",
       "    </tr>\n",
       "    <tr>\n",
       "      <th>9</th>\n",
       "      <td>that</td>\n",
       "      <td>1078</td>\n",
       "    </tr>\n",
       "    <tr>\n",
       "      <th>10</th>\n",
       "      <td>but</td>\n",
       "      <td>1035</td>\n",
       "    </tr>\n",
       "    <tr>\n",
       "      <th>11</th>\n",
       "      <td>so</td>\n",
       "      <td>961</td>\n",
       "    </tr>\n",
       "    <tr>\n",
       "      <th>12</th>\n",
       "      <td>on</td>\n",
       "      <td>878</td>\n",
       "    </tr>\n",
       "    <tr>\n",
       "      <th>13</th>\n",
       "      <td>all</td>\n",
       "      <td>852</td>\n",
       "    </tr>\n",
       "    <tr>\n",
       "      <th>14</th>\n",
       "      <td>we</td>\n",
       "      <td>848</td>\n",
       "    </tr>\n",
       "    <tr>\n",
       "      <th>15</th>\n",
       "      <td>for</td>\n",
       "      <td>844</td>\n",
       "    </tr>\n",
       "    <tr>\n",
       "      <th>16</th>\n",
       "      <td>up</td>\n",
       "      <td>828</td>\n",
       "    </tr>\n",
       "    <tr>\n",
       "      <th>17</th>\n",
       "      <td>out</td>\n",
       "      <td>807</td>\n",
       "    </tr>\n",
       "    <tr>\n",
       "      <th>18</th>\n",
       "      <td>me</td>\n",
       "      <td>758</td>\n",
       "    </tr>\n",
       "    <tr>\n",
       "      <th>19</th>\n",
       "      <td>him</td>\n",
       "      <td>727</td>\n",
       "    </tr>\n",
       "  </tbody>\n",
       "</table>\n",
       "</div>"
      ],
      "text/plain": [
       "       0     1\n",
       "0    and  6346\n",
       "1    the  4778\n",
       "2     to  2912\n",
       "3     it  2326\n",
       "4    was  2069\n",
       "5     he  1676\n",
       "6     of  1633\n",
       "7     in  1432\n",
       "8    you  1359\n",
       "9   that  1078\n",
       "10   but  1035\n",
       "11    so   961\n",
       "12    on   878\n",
       "13   all   852\n",
       "14    we   848\n",
       "15   for   844\n",
       "16    up   828\n",
       "17   out   807\n",
       "18    me   758\n",
       "19   him   727"
      ]
     },
     "execution_count": 6,
     "metadata": {},
     "output_type": "execute_result"
    }
   ],
   "source": [
    "# Compute top 20 words in the text\n",
    "top_20 = cng.top_n(tokens_lower, 20)\n",
    "pd.DataFrame(top_20)"
   ]
  },
  {
   "cell_type": "code",
   "execution_count": 8,
   "metadata": {},
   "outputs": [
    {
     "data": {
      "image/png": "[encoded data removed]",
      "text/plain": [
       "<Figure size 432x288 with 1 Axes>"
      ]
     },
     "execution_count": 8,
     "metadata": {},
     "output_type": "execute_result"
    }
   ],
   "source": [
    "# Plot bar chart\n",
    "cng.visualize_high(top_20, 'top20.png')"
   ]
  },
  {
   "cell_type": "code",
   "execution_count": null,
   "metadata": {},
   "outputs": [],
   "source": []
  }
 ],
 "metadata": {
  "kernelspec": {
   "display_name": "Python 3",
   "language": "python",
   "name": "python3"
  },
  "language_info": {
   "codemirror_mode": {
    "name": "ipython",
    "version": 3
   },
   "file_extension": ".py",
   "mimetype": "text/x-python",
   "name": "python",
   "nbconvert_exporter": "python",
   "pygments_lexer": "ipython3",
   "version": "3.7.1"
  }
 },
 "nbformat": 4,
 "nbformat_minor": 2
}
